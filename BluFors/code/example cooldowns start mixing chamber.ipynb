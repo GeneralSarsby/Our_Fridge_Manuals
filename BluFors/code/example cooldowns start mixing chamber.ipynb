{
 "cells": [
  {
   "cell_type": "code",
   "execution_count": 1,
   "metadata": {},
   "outputs": [],
   "source": [
    "\n",
    "\n",
    "import os\n"
   ]
  },
  {
   "cell_type": "code",
   "execution_count": 2,
   "metadata": {},
   "outputs": [
    {
     "data": {
      "text/plain": [
       "['../Logs/18-05-29',\n",
       " '../Logs/18-05-30',\n",
       " '../Logs/18-05-31',\n",
       " '../Logs/18-06-01',\n",
       " '../Logs/18-06-02',\n",
       " '../Logs/18-06-03',\n",
       " '../Logs/18-06-04',\n",
       " '../Logs/18-06-05',\n",
       " '../Logs/18-06-06',\n",
       " '../Logs/18-06-07',\n",
       " '../Logs/18-06-08',\n",
       " '../Logs/18-06-09',\n",
       " '../Logs/18-06-10',\n",
       " '../Logs/18-06-11',\n",
       " '../Logs/18-06-12',\n",
       " '../Logs/18-06-13',\n",
       " '../Logs/18-06-14',\n",
       " '../Logs/18-06-15',\n",
       " '../Logs/18-06-16',\n",
       " '../Logs/18-06-17',\n",
       " '../Logs/18-06-18',\n",
       " '../Logs/18-06-19',\n",
       " '../Logs/18-06-20',\n",
       " '../Logs/18-06-21',\n",
       " '../Logs/18-06-22',\n",
       " '../Logs/18-06-23',\n",
       " '../Logs/18-06-24',\n",
       " '../Logs/18-06-25',\n",
       " '../Logs/18-06-26',\n",
       " '../Logs/18-06-27',\n",
       " '../Logs/18-06-28',\n",
       " '../Logs/18-06-29',\n",
       " '../Logs/18-06-30',\n",
       " '../Logs/18-07-01',\n",
       " '../Logs/18-07-02',\n",
       " '../Logs/18-07-03',\n",
       " '../Logs/18-07-04',\n",
       " '../Logs/18-07-05',\n",
       " '../Logs/18-07-06',\n",
       " '../Logs/18-07-07',\n",
       " '../Logs/18-07-08',\n",
       " '../Logs/18-07-09',\n",
       " '../Logs/18-07-10',\n",
       " '../Logs/18-07-11',\n",
       " '../Logs/18-07-12',\n",
       " '../Logs/18-07-13',\n",
       " '../Logs/18-07-14',\n",
       " '../Logs/18-07-15',\n",
       " '../Logs/18-07-16',\n",
       " '../Logs/18-07-17',\n",
       " '../Logs/18-07-18',\n",
       " '../Logs/18-07-19',\n",
       " '../Logs/18-07-20',\n",
       " '../Logs/18-12-19',\n",
       " '../Logs/18-12-20',\n",
       " '../Logs/18-12-21',\n",
       " '../Logs/18-12-22',\n",
       " '../Logs/18-12-23',\n",
       " '../Logs/18-12-24',\n",
       " '../Logs/18-12-25',\n",
       " '../Logs/18-12-26',\n",
       " '../Logs/18-12-27',\n",
       " '../Logs/18-12-28',\n",
       " '../Logs/18-12-29',\n",
       " '../Logs/18-12-30',\n",
       " '../Logs/18-12-31',\n",
       " '../Logs/19-01-01',\n",
       " '../Logs/19-01-02',\n",
       " '../Logs/19-01-03',\n",
       " '../Logs/19-01-04',\n",
       " '../Logs/19-01-05',\n",
       " '../Logs/19-01-06',\n",
       " '../Logs/19-01-07',\n",
       " '../Logs/19-01-08',\n",
       " '../Logs/19-01-09',\n",
       " '../Logs/19-01-10',\n",
       " '../Logs/19-01-11',\n",
       " '../Logs/19-01-12',\n",
       " '../Logs/19-01-13',\n",
       " '../Logs/19-01-14',\n",
       " '../Logs/19-01-15',\n",
       " '../Logs/19-01-16',\n",
       " '../Logs/19-01-17',\n",
       " '../Logs/19-01-18',\n",
       " '../Logs/19-01-19',\n",
       " '../Logs/19-01-20',\n",
       " '../Logs/19-01-21',\n",
       " '../Logs/19-01-22',\n",
       " '../Logs/19-01-23',\n",
       " '../Logs/19-01-24',\n",
       " '../Logs/19-01-25',\n",
       " '../Logs/19-01-26',\n",
       " '../Logs/19-01-27',\n",
       " '../Logs/19-01-28',\n",
       " '../Logs/19-01-29',\n",
       " '../Logs/19-01-30',\n",
       " '../Logs/19-01-31',\n",
       " '../Logs/19-02-01',\n",
       " '../Logs/19-02-02',\n",
       " '../Logs/19-02-03',\n",
       " '../Logs/19-02-04',\n",
       " '../Logs/19-02-05',\n",
       " '../Logs/19-02-06',\n",
       " '../Logs/19-02-07',\n",
       " '../Logs/19-02-08',\n",
       " '../Logs/19-02-09',\n",
       " '../Logs/19-02-10',\n",
       " '../Logs/19-02-11',\n",
       " '../Logs/19-02-12',\n",
       " '../Logs/19-02-13',\n",
       " '../Logs/19-02-14',\n",
       " '../Logs/19-02-15',\n",
       " '../Logs/19-02-16',\n",
       " '../Logs/19-02-17',\n",
       " '../Logs/19-02-18',\n",
       " '../Logs/19-02-19',\n",
       " '../Logs/19-02-20',\n",
       " '../Logs/19-02-21',\n",
       " '../Logs/19-02-22',\n",
       " '../Logs/19-02-23',\n",
       " '../Logs/19-02-24',\n",
       " '../Logs/19-02-25',\n",
       " '../Logs/19-02-26',\n",
       " '../Logs/19-02-27',\n",
       " '../Logs/19-02-28',\n",
       " '../Logs/19-03-01',\n",
       " '../Logs/19-03-02',\n",
       " '../Logs/19-03-03',\n",
       " '../Logs/19-03-04',\n",
       " '../Logs/19-03-05',\n",
       " '../Logs/19-03-06',\n",
       " '../Logs/19-03-07',\n",
       " '../Logs/19-03-08',\n",
       " '../Logs/19-03-09',\n",
       " '../Logs/19-03-10',\n",
       " '../Logs/19-03-11',\n",
       " '../Logs/19-03-12',\n",
       " '../Logs/19-03-13',\n",
       " '../Logs/19-03-14',\n",
       " '../Logs/19-03-15',\n",
       " '../Logs/19-03-16',\n",
       " '../Logs/19-03-17',\n",
       " '../Logs/19-03-18',\n",
       " '../Logs/19-03-19',\n",
       " '../Logs/19-03-20',\n",
       " '../Logs/19-03-21',\n",
       " '../Logs/19-03-22',\n",
       " '../Logs/19-03-23',\n",
       " '../Logs/19-03-24',\n",
       " '../Logs/19-03-25',\n",
       " '../Logs/19-03-26',\n",
       " '../Logs/19-03-27',\n",
       " '../Logs/19-03-28',\n",
       " '../Logs/19-03-29',\n",
       " '../Logs/19-03-30',\n",
       " '../Logs/19-03-31',\n",
       " '../Logs/19-04-01',\n",
       " '../Logs/19-04-02',\n",
       " '../Logs/19-04-03',\n",
       " '../Logs/19-04-04',\n",
       " '../Logs/19-04-05',\n",
       " '../Logs/19-04-06',\n",
       " '../Logs/19-04-07',\n",
       " '../Logs/19-04-08',\n",
       " '../Logs/19-04-09',\n",
       " '../Logs/19-04-10',\n",
       " '../Logs/19-04-11',\n",
       " '../Logs/19-04-12',\n",
       " '../Logs/19-04-13',\n",
       " '../Logs/19-04-14',\n",
       " '../Logs/19-04-15',\n",
       " '../Logs/19-04-16',\n",
       " '../Logs/19-04-17',\n",
       " '../Logs/19-04-18',\n",
       " '../Logs/19-04-19',\n",
       " '../Logs/19-04-20',\n",
       " '../Logs/19-04-21',\n",
       " '../Logs/19-04-22',\n",
       " '../Logs/19-04-23',\n",
       " '../Logs/19-04-24',\n",
       " '../Logs/19-04-25',\n",
       " '../Logs/19-04-26',\n",
       " '../Logs/19-04-27',\n",
       " '../Logs/19-04-28',\n",
       " '../Logs/19-04-29',\n",
       " '../Logs/19-04-30',\n",
       " '../Logs/19-05-01',\n",
       " '../Logs/19-05-02',\n",
       " '../Logs/19-05-03',\n",
       " '../Logs/19-05-04',\n",
       " '../Logs/19-05-05',\n",
       " '../Logs/19-05-06',\n",
       " '../Logs/19-05-07',\n",
       " '../Logs/19-05-08',\n",
       " '../Logs/19-05-09',\n",
       " '../Logs/19-05-10',\n",
       " '../Logs/19-05-11',\n",
       " '../Logs/19-05-12',\n",
       " '../Logs/19-05-13',\n",
       " '../Logs/19-05-14',\n",
       " '../Logs/19-05-15',\n",
       " '../Logs/19-05-16',\n",
       " '../Logs/19-05-17',\n",
       " '../Logs/19-05-18',\n",
       " '../Logs/19-05-19',\n",
       " '../Logs/19-05-20',\n",
       " '../Logs/19-05-21',\n",
       " '../Logs/19-05-22',\n",
       " '../Logs/19-05-23']"
      ]
     },
     "execution_count": 2,
     "metadata": {},
     "output_type": "execute_result"
    }
   ],
   "source": [
    "\n",
    "d = '../Logs/'\n",
    "daily_folders = sorted([os.path.join(d, o) for o in os.listdir(d) \n",
    "                    if os.path.isdir(os.path.join(d,o))])\n",
    "\n",
    "daily_folders"
   ]
  },
  {
   "cell_type": "code",
   "execution_count": 3,
   "metadata": {},
   "outputs": [
    {
     "data": {
      "text/plain": [
       "['../Logs/18-05-30/CH6 T 18-05-30.log',\n",
       " '../Logs/18-05-31/CH6 T 18-05-31.log',\n",
       " '../Logs/18-06-01/CH6 T 18-06-01.log',\n",
       " '../Logs/18-06-02/CH6 T 18-06-02.log',\n",
       " '../Logs/18-06-03/CH6 T 18-06-03.log',\n",
       " '../Logs/18-06-04/CH6 T 18-06-04.log',\n",
       " '../Logs/18-06-05/CH6 T 18-06-05.log',\n",
       " '../Logs/18-06-06/CH6 T 18-06-06.log',\n",
       " '../Logs/18-06-07/CH6 T 18-06-07.log',\n",
       " '../Logs/18-06-08/CH6 T 18-06-08.log',\n",
       " '../Logs/18-06-09/CH6 T 18-06-09.log',\n",
       " '../Logs/18-06-10/CH6 T 18-06-10.log',\n",
       " '../Logs/18-06-11/CH6 T 18-06-11.log',\n",
       " '../Logs/18-06-12/CH6 T 18-06-12.log',\n",
       " '../Logs/18-06-13/CH6 T 18-06-13.log',\n",
       " '../Logs/18-06-14/CH6 T 18-06-14.log',\n",
       " '../Logs/18-06-15/CH6 T 18-06-15.log',\n",
       " '../Logs/18-06-16/CH6 T 18-06-16.log',\n",
       " '../Logs/18-06-17/CH6 T 18-06-17.log',\n",
       " '../Logs/18-06-18/CH6 T 18-06-18.log',\n",
       " '../Logs/18-06-19/CH6 T 18-06-19.log',\n",
       " '../Logs/18-06-20/CH6 T 18-06-20.log',\n",
       " '../Logs/18-06-21/CH6 T 18-06-21.log',\n",
       " '../Logs/18-06-22/CH6 T 18-06-22.log',\n",
       " '../Logs/18-06-23/CH6 T 18-06-23.log',\n",
       " '../Logs/18-06-24/CH6 T 18-06-24.log',\n",
       " '../Logs/18-06-25/CH6 T 18-06-25.log',\n",
       " '../Logs/18-06-26/CH6 T 18-06-26.log',\n",
       " '../Logs/18-06-27/CH6 T 18-06-27.log',\n",
       " '../Logs/18-06-28/CH6 T 18-06-28.log',\n",
       " '../Logs/18-06-29/CH6 T 18-06-29.log',\n",
       " '../Logs/18-06-30/CH6 T 18-06-30.log',\n",
       " '../Logs/18-07-01/CH6 T 18-07-01.log',\n",
       " '../Logs/18-07-02/CH6 T 18-07-02.log',\n",
       " '../Logs/18-07-03/CH6 T 18-07-03.log',\n",
       " '../Logs/18-07-04/CH6 T 18-07-04.log',\n",
       " '../Logs/18-07-05/CH6 T 18-07-05.log',\n",
       " '../Logs/18-07-06/CH6 T 18-07-06.log',\n",
       " '../Logs/18-07-07/CH6 T 18-07-07.log',\n",
       " '../Logs/18-07-08/CH6 T 18-07-08.log',\n",
       " '../Logs/18-07-09/CH6 T 18-07-09.log',\n",
       " '../Logs/18-07-10/CH6 T 18-07-10.log',\n",
       " '../Logs/18-07-11/CH6 T 18-07-11.log',\n",
       " '../Logs/18-07-12/CH6 T 18-07-12.log',\n",
       " '../Logs/18-07-13/CH6 T 18-07-13.log',\n",
       " '../Logs/18-07-14/CH6 T 18-07-14.log',\n",
       " '../Logs/18-07-15/CH6 T 18-07-15.log',\n",
       " '../Logs/18-07-16/CH6 T 18-07-16.log',\n",
       " '../Logs/18-07-17/CH6 T 18-07-17.log',\n",
       " '../Logs/18-07-18/CH6 T 18-07-18.log',\n",
       " '../Logs/18-07-19/CH6 T 18-07-19.log',\n",
       " '../Logs/18-12-20/CH6 T 18-12-20.log',\n",
       " '../Logs/18-12-21/CH6 T 18-12-21.log',\n",
       " '../Logs/18-12-22/CH6 T 18-12-22.log',\n",
       " '../Logs/18-12-23/CH6 T 18-12-23.log',\n",
       " '../Logs/18-12-24/CH6 T 18-12-24.log',\n",
       " '../Logs/18-12-25/CH6 T 18-12-25.log',\n",
       " '../Logs/18-12-26/CH6 T 18-12-26.log',\n",
       " '../Logs/18-12-27/CH6 T 18-12-27.log',\n",
       " '../Logs/18-12-28/CH6 T 18-12-28.log',\n",
       " '../Logs/18-12-29/CH6 T 18-12-29.log',\n",
       " '../Logs/18-12-30/CH6 T 18-12-30.log',\n",
       " '../Logs/18-12-31/CH6 T 18-12-31.log',\n",
       " '../Logs/19-01-01/CH6 T 19-01-01.log',\n",
       " '../Logs/19-01-02/CH6 T 19-01-02.log',\n",
       " '../Logs/19-01-03/CH6 T 19-01-03.log',\n",
       " '../Logs/19-01-04/CH6 T 19-01-04.log',\n",
       " '../Logs/19-01-05/CH6 T 19-01-05.log',\n",
       " '../Logs/19-01-06/CH6 T 19-01-06.log',\n",
       " '../Logs/19-01-07/CH6 T 19-01-07.log',\n",
       " '../Logs/19-01-08/CH6 T 19-01-08.log',\n",
       " '../Logs/19-01-09/CH6 T 19-01-09.log',\n",
       " '../Logs/19-01-10/CH6 T 19-01-10.log',\n",
       " '../Logs/19-01-11/CH6 T 19-01-11.log',\n",
       " '../Logs/19-01-12/CH6 T 19-01-12.log',\n",
       " '../Logs/19-01-13/CH6 T 19-01-13.log',\n",
       " '../Logs/19-01-14/CH6 T 19-01-14.log',\n",
       " '../Logs/19-01-15/CH6 T 19-01-15.log',\n",
       " '../Logs/19-01-16/CH6 T 19-01-16.log',\n",
       " '../Logs/19-01-17/CH6 T 19-01-17.log',\n",
       " '../Logs/19-01-18/CH6 T 19-01-18.log',\n",
       " '../Logs/19-01-19/CH6 T 19-01-19.log',\n",
       " '../Logs/19-01-20/CH6 T 19-01-20.log',\n",
       " '../Logs/19-01-21/CH6 T 19-01-21.log',\n",
       " '../Logs/19-01-22/CH6 T 19-01-22.log',\n",
       " '../Logs/19-01-23/CH6 T 19-01-23.log',\n",
       " '../Logs/19-01-24/CH6 T 19-01-24.log',\n",
       " '../Logs/19-01-25/CH6 T 19-01-25.log',\n",
       " '../Logs/19-01-26/CH6 T 19-01-26.log',\n",
       " '../Logs/19-01-27/CH6 T 19-01-27.log',\n",
       " '../Logs/19-01-28/CH6 T 19-01-28.log',\n",
       " '../Logs/19-01-29/CH6 T 19-01-29.log',\n",
       " '../Logs/19-01-30/CH6 T 19-01-30.log',\n",
       " '../Logs/19-01-31/CH6 T 19-01-31.log',\n",
       " '../Logs/19-02-01/CH6 T 19-02-01.log',\n",
       " '../Logs/19-02-02/CH6 T 19-02-02.log',\n",
       " '../Logs/19-02-03/CH6 T 19-02-03.log',\n",
       " '../Logs/19-02-04/CH6 T 19-02-04.log',\n",
       " '../Logs/19-02-05/CH6 T 19-02-05.log',\n",
       " '../Logs/19-02-06/CH6 T 19-02-06.log',\n",
       " '../Logs/19-02-07/CH6 T 19-02-07.log',\n",
       " '../Logs/19-02-08/CH6 T 19-02-08.log',\n",
       " '../Logs/19-02-09/CH6 T 19-02-09.log',\n",
       " '../Logs/19-02-10/CH6 T 19-02-10.log',\n",
       " '../Logs/19-02-11/CH6 T 19-02-11.log',\n",
       " '../Logs/19-02-12/CH6 T 19-02-12.log',\n",
       " '../Logs/19-02-13/CH6 T 19-02-13.log',\n",
       " '../Logs/19-02-14/CH6 T 19-02-14.log',\n",
       " '../Logs/19-02-15/CH6 T 19-02-15.log',\n",
       " '../Logs/19-02-16/CH6 T 19-02-16.log',\n",
       " '../Logs/19-02-17/CH6 T 19-02-17.log',\n",
       " '../Logs/19-02-18/CH6 T 19-02-18.log',\n",
       " '../Logs/19-02-19/CH6 T 19-02-19.log',\n",
       " '../Logs/19-02-20/CH6 T 19-02-20.log',\n",
       " '../Logs/19-02-21/CH6 T 19-02-21.log',\n",
       " '../Logs/19-02-22/CH6 T 19-02-22.log',\n",
       " '../Logs/19-02-23/CH6 T 19-02-23.log',\n",
       " '../Logs/19-02-24/CH6 T 19-02-24.log',\n",
       " '../Logs/19-02-25/CH6 T 19-02-25.log',\n",
       " '../Logs/19-02-26/CH6 T 19-02-26.log',\n",
       " '../Logs/19-02-27/CH6 T 19-02-27.log',\n",
       " '../Logs/19-02-28/CH6 T 19-02-28.log',\n",
       " '../Logs/19-03-01/CH6 T 19-03-01.log',\n",
       " '../Logs/19-03-02/CH6 T 19-03-02.log',\n",
       " '../Logs/19-03-03/CH6 T 19-03-03.log',\n",
       " '../Logs/19-03-04/CH6 T 19-03-04.log',\n",
       " '../Logs/19-03-05/CH6 T 19-03-05.log',\n",
       " '../Logs/19-03-06/CH6 T 19-03-06.log',\n",
       " '../Logs/19-03-07/CH6 T 19-03-07.log',\n",
       " '../Logs/19-03-08/CH6 T 19-03-08.log',\n",
       " '../Logs/19-03-09/CH6 T 19-03-09.log',\n",
       " '../Logs/19-03-10/CH6 T 19-03-10.log',\n",
       " '../Logs/19-03-11/CH6 T 19-03-11.log',\n",
       " '../Logs/19-03-12/CH6 T 19-03-12.log',\n",
       " '../Logs/19-03-13/CH6 T 19-03-13.log',\n",
       " '../Logs/19-03-14/CH6 T 19-03-14.log',\n",
       " '../Logs/19-03-15/CH6 T 19-03-15.log',\n",
       " '../Logs/19-03-16/CH6 T 19-03-16.log',\n",
       " '../Logs/19-03-17/CH6 T 19-03-17.log',\n",
       " '../Logs/19-03-18/CH6 T 19-03-18.log',\n",
       " '../Logs/19-03-19/CH6 T 19-03-19.log',\n",
       " '../Logs/19-03-20/CH6 T 19-03-20.log',\n",
       " '../Logs/19-03-21/CH6 T 19-03-21.log',\n",
       " '../Logs/19-03-22/CH6 T 19-03-22.log',\n",
       " '../Logs/19-03-23/CH6 T 19-03-23.log',\n",
       " '../Logs/19-03-24/CH6 T 19-03-24.log',\n",
       " '../Logs/19-03-25/CH6 T 19-03-25.log',\n",
       " '../Logs/19-03-26/CH6 T 19-03-26.log',\n",
       " '../Logs/19-03-27/CH6 T 19-03-27.log',\n",
       " '../Logs/19-03-28/CH6 T 19-03-28.log',\n",
       " '../Logs/19-03-29/CH6 T 19-03-29.log',\n",
       " '../Logs/19-03-30/CH6 T 19-03-30.log',\n",
       " '../Logs/19-03-31/CH6 T 19-03-31.log',\n",
       " '../Logs/19-04-01/CH6 T 19-04-01.log',\n",
       " '../Logs/19-04-02/CH6 T 19-04-02.log',\n",
       " '../Logs/19-04-03/CH6 T 19-04-03.log',\n",
       " '../Logs/19-04-04/CH6 T 19-04-04.log',\n",
       " '../Logs/19-04-05/CH6 T 19-04-05.log',\n",
       " '../Logs/19-04-06/CH6 T 19-04-06.log',\n",
       " '../Logs/19-04-07/CH6 T 19-04-07.log',\n",
       " '../Logs/19-04-08/CH6 T 19-04-08.log',\n",
       " '../Logs/19-04-09/CH6 T 19-04-09.log',\n",
       " '../Logs/19-04-10/CH6 T 19-04-10.log',\n",
       " '../Logs/19-04-11/CH6 T 19-04-11.log',\n",
       " '../Logs/19-04-12/CH6 T 19-04-12.log',\n",
       " '../Logs/19-04-13/CH6 T 19-04-13.log',\n",
       " '../Logs/19-04-14/CH6 T 19-04-14.log',\n",
       " '../Logs/19-04-15/CH6 T 19-04-15.log',\n",
       " '../Logs/19-04-16/CH6 T 19-04-16.log',\n",
       " '../Logs/19-04-17/CH6 T 19-04-17.log',\n",
       " '../Logs/19-04-18/CH6 T 19-04-18.log',\n",
       " '../Logs/19-04-19/CH6 T 19-04-19.log',\n",
       " '../Logs/19-04-20/CH6 T 19-04-20.log',\n",
       " '../Logs/19-04-21/CH6 T 19-04-21.log',\n",
       " '../Logs/19-04-22/CH6 T 19-04-22.log',\n",
       " '../Logs/19-04-23/CH6 T 19-04-23.log',\n",
       " '../Logs/19-04-24/CH6 T 19-04-24.log',\n",
       " '../Logs/19-04-25/CH6 T 19-04-25.log',\n",
       " '../Logs/19-04-26/CH6 T 19-04-26.log',\n",
       " '../Logs/19-04-27/CH6 T 19-04-27.log',\n",
       " '../Logs/19-04-28/CH6 T 19-04-28.log',\n",
       " '../Logs/19-04-29/CH6 T 19-04-29.log',\n",
       " '../Logs/19-04-30/CH6 T 19-04-30.log',\n",
       " '../Logs/19-05-01/CH6 T 19-05-01.log',\n",
       " '../Logs/19-05-02/CH6 T 19-05-02.log',\n",
       " '../Logs/19-05-03/CH6 T 19-05-03.log',\n",
       " '../Logs/19-05-04/CH6 T 19-05-04.log',\n",
       " '../Logs/19-05-05/CH6 T 19-05-05.log',\n",
       " '../Logs/19-05-06/CH6 T 19-05-06.log',\n",
       " '../Logs/19-05-07/CH6 T 19-05-07.log',\n",
       " '../Logs/19-05-08/CH6 T 19-05-08.log',\n",
       " '../Logs/19-05-09/CH6 T 19-05-09.log',\n",
       " '../Logs/19-05-10/CH6 T 19-05-10.log',\n",
       " '../Logs/19-05-11/CH6 T 19-05-11.log',\n",
       " '../Logs/19-05-12/CH6 T 19-05-12.log',\n",
       " '../Logs/19-05-13/CH6 T 19-05-13.log',\n",
       " '../Logs/19-05-14/CH6 T 19-05-14.log',\n",
       " '../Logs/19-05-15/CH6 T 19-05-15.log',\n",
       " '../Logs/19-05-16/CH6 T 19-05-16.log',\n",
       " '../Logs/19-05-17/CH6 T 19-05-17.log',\n",
       " '../Logs/19-05-18/CH6 T 19-05-18.log',\n",
       " '../Logs/19-05-19/CH6 T 19-05-19.log',\n",
       " '../Logs/19-05-20/CH6 T 19-05-20.log',\n",
       " '../Logs/19-05-21/CH6 T 19-05-21.log',\n",
       " '../Logs/19-05-22/CH6 T 19-05-22.log',\n",
       " '../Logs/19-05-23/CH6 T 19-05-23.log']"
      ]
     },
     "execution_count": 3,
     "metadata": {},
     "output_type": "execute_result"
    }
   ],
   "source": [
    "#only one file in the folders\n",
    "\n",
    "ch6_files = sorted([os.path.join(f,o) for f in daily_folders\n",
    "                   for o in os.listdir(f) \n",
    "                   if o.startswith('CH6 T')])\n",
    "ch6_files"
   ]
  },
  {
   "cell_type": "code",
   "execution_count": 4,
   "metadata": {},
   "outputs": [],
   "source": [
    "import datetime, time\n",
    "from dateutil import parser\n",
    "import matplotlib.pyplot as plt\n",
    "%matplotlib inline"
   ]
  },
  {
   "cell_type": "code",
   "execution_count": null,
   "metadata": {},
   "outputs": [],
   "source": []
  },
  {
   "cell_type": "code",
   "execution_count": 7,
   "metadata": {},
   "outputs": [
    {
     "name": "stdout",
     "output_type": "stream",
     "text": [
      ".............................................................................................................................................................................................................."
     ]
    }
   ],
   "source": [
    "dates,Ts = [],[]\n",
    "\n",
    "for f in ch6_files:\n",
    "    print('.',end='')\n",
    "    with open(f,'r') as fi:\n",
    "        for line in fi.readlines():\n",
    "            parts = line.split(',')\n",
    "            if len(parts) == 3:\n",
    "                #parser.parse(  )\n",
    "                #datetime.datetime.fromisoformat( )\n",
    "                dates.append( datetime.datetime.strptime(parts[0][1:] + 'T' + parts[1],\"%d-%m-%yT%H:%M:%S\") )\n",
    "                \n",
    "                Ts.append(float(parts[2]))"
   ]
  },
  {
   "cell_type": "code",
   "execution_count": 8,
   "metadata": {},
   "outputs": [
    {
     "data": {
      "text/plain": [
       "[<matplotlib.lines.Line2D at 0x7f8d05d34e10>]"
      ]
     },
     "execution_count": 8,
     "metadata": {},
     "output_type": "execute_result"
    },
    {
     "data": {
      "image/png": "[encoded data removed]",
      "text/plain": [
       "<Figure size 432x288 with 1 Axes>"
      ]
     },
     "metadata": {},
     "output_type": "display_data"
    }
   ],
   "source": [
    "plt.plot_date(dates,Ts,'-')"
   ]
  },
  {
   "cell_type": "code",
   "execution_count": 9,
   "metadata": {},
   "outputs": [],
   "source": [
    "import pandas as pd\n",
    "import numpy as np"
   ]
  },
  {
   "cell_type": "code",
   "execution_count": 10,
   "metadata": {},
   "outputs": [],
   "source": [
    "df = pd.DataFrame({'dt':dates,'T':Ts})"
   ]
  },
  {
   "cell_type": "code",
   "execution_count": 11,
   "metadata": {},
   "outputs": [],
   "source": [
    "df['epoch'] = df['dt'].apply(lambda x: x.timestamp() )\n",
    "min_t = np.min(df['epoch'])\n",
    "df['h'] = (df['epoch']-min_t)/3600"
   ]
  },
  {
   "cell_type": "code",
   "execution_count": 12,
   "metadata": {},
   "outputs": [
    {
     "data": {
      "text/plain": [
       "[<matplotlib.lines.Line2D at 0x7f8d30ff3518>]"
      ]
     },
     "execution_count": 12,
     "metadata": {},
     "output_type": "execute_result"
    },
    {
     "data": {
      "image/png": "[encoded data removed]",
      "text/plain": [
       "<Figure size 432x288 with 1 Axes>"
      ]
     },
     "metadata": {},
     "output_type": "display_data"
    }
   ],
   "source": [
    "\n",
    "plt.plot(df['h'],df['T'])"
   ]
  },
  {
   "cell_type": "code",
   "execution_count": 13,
   "metadata": {},
   "outputs": [],
   "source": [
    "import json"
   ]
  },
  {
   "cell_type": "code",
   "execution_count": 14,
   "metadata": {},
   "outputs": [],
   "source": [
    "def save_json(filename,obj):\n",
    "    with open(filename,'w+') as f:\n",
    "        json.dump(obj,f)"
   ]
  },
  {
   "cell_type": "code",
   "execution_count": 47,
   "metadata": {},
   "outputs": [
    {
     "name": "stderr",
     "output_type": "stream",
     "text": [
      "/home/sarsby/.local/lib/python3.6/site-packages/matplotlib/pyplot.py:1479: UserWarning: Attempted to set non-positive bottom ylim on a log-scaled axis.\n",
      "Invalid limit will be ignored.\n",
      "  ret = ax.set_ylim(*args, **kwargs)\n"
     ]
    },
    {
     "data": {
      "image/png": "[encoded data removed]",
      "text/plain": [
       "<Figure size 504x216 with 1 Axes>"
      ]
     },
     "metadata": {},
     "output_type": "display_data"
    }
   ],
   "source": [
    "#starts = [4890,5855,6269,7398,8298]\n",
    "\n",
    "starts = [5854.5,6269,4897]\n",
    "plt.figure(figsize=(7,3),)\n",
    "runsletters = ['a','b','c']\n",
    "r = {}\n",
    "for start,label in zip(starts,runsletters):\n",
    "    length = 90\n",
    "    offset = 40\n",
    "    tdf=df[df['h'] > start+offset]\n",
    "    tdf=tdf[tdf['h'] < start-2+length]\n",
    "    newmin= np.min(tdf['h'])-offset\n",
    "    r[label] = {\n",
    "        'h': list(tdf['h']-newmin),\n",
    "        'T': list(tdf['T']),\n",
    "    }\n",
    "    plt.semilogy(tdf['h']-newmin,tdf['T'],label=label)\n",
    "\n",
    "save_json('./50tobasekelvinpagani.json',r)\n",
    "plt.legend(title='Run')\n",
    "plt.yscale('log')\n",
    "plt.xlabel('time (hours)')\n",
    "plt.ylabel('Mixing Chamber')\n",
    "plt.xticks(range(offset,length+1,5))\n",
    "plt.grid(True)\n",
    "plt.ylim(0,80)\n",
    "plt.xlim(offset,length)\n",
    "plt.yticks([0.01,0.1,1,10,100],['10 mK','100 mK','1 K','10 K','100 K'])\n",
    "plt.tight_layout()"
   ]
  },
  {
   "cell_type": "code",
   "execution_count": 132,
   "metadata": {},
   "outputs": [
    {
     "data": {
      "text/plain": [
       "[<matplotlib.lines.Line2D at 0x7efc0727c8d0>]"
      ]
     },
     "execution_count": 132,
     "metadata": {},
     "output_type": "execute_result"
    },
    {
     "data": {
      "image/png": "[encoded data removed]",
      "text/plain": [
       "<Figure size 432x288 with 1 Axes>"
      ]
     },
     "metadata": {},
     "output_type": "display_data"
    }
   ],
   "source": [
    "start = 8298\n",
    "length = 1000\n",
    "tdf=df[df['h'] > start]\n",
    "tdf=tdf[tdf['h'] < start+length]\n",
    "newmin= np.min(tdf['h'])\n",
    "\n",
    "plt.plot(tdf['h']-newmin,tdf['T'])"
   ]
  },
  {
   "cell_type": "code",
   "execution_count": null,
   "metadata": {},
   "outputs": [],
   "source": []
  },
  {
   "cell_type": "code",
   "execution_count": null,
   "metadata": {},
   "outputs": [],
   "source": []
  },
  {
   "cell_type": "code",
   "execution_count": null,
   "metadata": {},
   "outputs": [],
   "source": []
  },
  {
   "cell_type": "code",
   "execution_count": null,
   "metadata": {},
   "outputs": [],
   "source": []
  },
  {
   "cell_type": "code",
   "execution_count": null,
   "metadata": {},
   "outputs": [],
   "source": []
  }
 ],
 "metadata": {
  "kernelspec": {
   "display_name": "Python 3",
   "language": "python",
   "name": "python3"
  },
  "language_info": {
   "codemirror_mode": {
    "name": "ipython",
    "version": 3
   },
   "file_extension": ".py",
   "mimetype": "text/x-python",
   "name": "python",
   "nbconvert_exporter": "python",
   "pygments_lexer": "ipython3",
   "version": "3.6.7"
  }
 },
 "nbformat": 4,
 "nbformat_minor": 2
}
